{
  "nbformat": 4,
  "nbformat_minor": 0,
  "metadata": {
    "colab": {
      "provenance": []
    },
    "kernelspec": {
      "name": "python3",
      "display_name": "Python 3"
    },
    "language_info": {
      "name": "python"
    }
  },
  "cells": [
    {
      "cell_type": "markdown",
      "source": [
        "1.Are lists mutable or immutable, explain with an example"
      ],
      "metadata": {
        "id": "Mxypr15V3U7e"
      }
    },
    {
      "cell_type": "code",
      "source": [
        "my_list = [1, 2, 3]\n",
        "my_list[1] = 20\n",
        "print(\"After modification:\", my_list)\n",
        "my_list.append(4)\n",
        "print(\"After appending:\", my_list)\n",
        "my_list.remove(20)\n",
        "print(\"After removing 20:\", my_list)\n"
      ],
      "metadata": {
        "id": "c_aTKXsT3p0P",
        "colab": {
          "base_uri": "https://localhost:8080/"
        },
        "outputId": "2ca62f14-d200-491e-e1eb-ba601517e8a8"
      },
      "execution_count": 1,
      "outputs": [
        {
          "output_type": "stream",
          "name": "stdout",
          "text": [
            "After modification: [1, 20, 3]\n",
            "After appending: [1, 20, 3, 4]\n",
            "After removing 20: [1, 3, 4]\n"
          ]
        }
      ]
    },
    {
      "cell_type": "markdown",
      "source": [
        "2.Take any example of list on your own and perform atleast 5 list operations on that"
      ],
      "metadata": {
        "id": "uPYH4kpZ3U97"
      }
    },
    {
      "cell_type": "code",
      "source": [
        "numbers = [10, 20, 30, 40, 50]\n",
        "numbers.append(60)\n",
        "print(\"After appending 60:\", numbers)\n",
        "numbers.extend([70, 80])\n",
        "print(\"After extending with [70, 80]:\", numbers)\n",
        "index_of_40 = numbers.index(40)\n",
        "print(\"Index of 40:\", index_of_40)\n",
        "numbers.reverse()\n",
        "print(\"After reversing:\", numbers)\n",
        "numbers.clear()\n",
        "print(\"After clearing:\", numbers)\n"
      ],
      "metadata": {
        "id": "vSxe0pwG36ME",
        "colab": {
          "base_uri": "https://localhost:8080/"
        },
        "outputId": "1b23a397-8f7f-4c1e-ecd5-187f5cc6cad6"
      },
      "execution_count": 2,
      "outputs": [
        {
          "output_type": "stream",
          "name": "stdout",
          "text": [
            "After appending 60: [10, 20, 30, 40, 50, 60]\n",
            "After extending with [70, 80]: [10, 20, 30, 40, 50, 60, 70, 80]\n",
            "Index of 40: 3\n",
            "After reversing: [80, 70, 60, 50, 40, 30, 20, 10]\n",
            "After clearing: []\n"
          ]
        }
      ]
    },
    {
      "cell_type": "markdown",
      "source": [
        "3.Create a new list containing only the even numbers from the original list.\n",
        "\n",
        "original list ;[1,2,2,4,5,6,7,12,3,456,78,67,89,90]"
      ],
      "metadata": {
        "id": "1aSo9eEU3VAT"
      }
    },
    {
      "cell_type": "code",
      "source": [
        "#write your code here\n",
        "original_list = [1, 2, 2, 4, 5, 6, 7, 12, 3, 456, 78, 67, 89, 90]\n",
        "even_numbers = [num for num in original_list if num % 2 == 0]\n",
        "print(\"Original list:\", original_list)\n",
        "print(\"List of even numbers:\", even_numbers)\n"
      ],
      "metadata": {
        "id": "e-_3vMX54Upe",
        "colab": {
          "base_uri": "https://localhost:8080/"
        },
        "outputId": "84ab3374-80c1-47b1-ffdb-23dabf11cd5e"
      },
      "execution_count": 3,
      "outputs": [
        {
          "output_type": "stream",
          "name": "stdout",
          "text": [
            "Original list: [1, 2, 2, 4, 5, 6, 7, 12, 3, 456, 78, 67, 89, 90]\n",
            "List of even numbers: [2, 2, 4, 6, 12, 456, 78, 90]\n"
          ]
        }
      ]
    },
    {
      "cell_type": "markdown",
      "source": [
        "4.Create a new list with the squares of each element in the original list.\n",
        "\n",
        "original list : [3,5,6,8,2,45]"
      ],
      "metadata": {
        "id": "y1b95q7k3VCz"
      }
    },
    {
      "cell_type": "code",
      "source": [
        "#write your code here\n",
        "original_list = [3, 5, 6, 8, 2, 45]\n",
        "squared_list = [num ** 2 for num in original_list]\n",
        "print(\"Original list:\", original_list)\n",
        "print(\"List of squares:\", squared_list)\n"
      ],
      "metadata": {
        "id": "97M5xax24jM4",
        "colab": {
          "base_uri": "https://localhost:8080/"
        },
        "outputId": "be138a8b-449f-4045-d8e3-3b9d2a53d740"
      },
      "execution_count": 4,
      "outputs": [
        {
          "output_type": "stream",
          "name": "stdout",
          "text": [
            "Original list: [3, 5, 6, 8, 2, 45]\n",
            "List of squares: [9, 25, 36, 64, 4, 2025]\n"
          ]
        }
      ]
    },
    {
      "cell_type": "markdown",
      "source": [
        "5.Check if all elements in the list are positive and return all the positive elements in a new list.\n",
        "\n",
        "input ; [12,23,4,56,77,-89,7,90,90,-87,-99]"
      ],
      "metadata": {
        "id": "pzrQ5WBZ3VFQ"
      }
    },
    {
      "cell_type": "code",
      "source": [
        "# write your code here\n",
        "input_list = [12, 23, 4, 56, 77, -89, 7, 90, 90, -87, -99]\n",
        "all_positive = all(num > 0 for num in input_list)\n",
        "print(\"Are all elements positive?\", all_positive)\n",
        "positive_elements = [num for num in input_list if num > 0]\n",
        "print(\"List of positive elements:\", positive_elements)\n"
      ],
      "metadata": {
        "id": "8x0148io5FcT",
        "colab": {
          "base_uri": "https://localhost:8080/"
        },
        "outputId": "ff867540-c120-4db3-eadc-1d23b786c272"
      },
      "execution_count": 5,
      "outputs": [
        {
          "output_type": "stream",
          "name": "stdout",
          "text": [
            "Are all elements positive? False\n",
            "List of positive elements: [12, 23, 4, 56, 77, 7, 90, 90]\n"
          ]
        }
      ]
    }
  ]
}