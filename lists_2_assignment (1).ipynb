{
  "nbformat": 4,
  "nbformat_minor": 0,
  "metadata": {
    "colab": {
      "provenance": []
    },
    "kernelspec": {
      "name": "python3",
      "display_name": "Python 3"
    },
    "language_info": {
      "name": "python"
    }
  },
  "cells": [
    {
      "cell_type": "markdown",
      "source": [
        "1.Remove empty strings from the list1 of strings\n",
        "\n",
        "list1 = [\"Mike\", \" \", \"Emma\", \"Kelly\", \" \", \"Brad\"]\n",
        "\n",
        "\n"
      ],
      "metadata": {
        "id": "2caz_EPd5ui9"
      }
    },
    {
      "cell_type": "code",
      "source": [
        "# Define the list\n",
        "list1 = [\"Mike\", \" \", \"Emma\", \"Kelly\", \" \", \"Brad\"]\n",
        "\n",
        "# Filter out empty strings and strings with only spaces\n",
        "filtered_list = [item for item in list1 if item.strip()]\n",
        "\n",
        "# Print the result\n",
        "print(filtered_list)\n"
      ],
      "metadata": {
        "id": "Q1BAsluP59Zu",
        "colab": {
          "base_uri": "https://localhost:8080/"
        },
        "outputId": "b2ccbb4a-48cd-4cc0-e54e-351f7545a2f6"
      },
      "execution_count": 5,
      "outputs": [
        {
          "output_type": "stream",
          "name": "stdout",
          "text": [
            "['Mike', 'Emma', 'Kelly', 'Brad']\n"
          ]
        }
      ]
    },
    {
      "cell_type": "markdown",
      "source": [
        "2.Write a program to add item 7000 after 6000 in the following Python List\n",
        "\n",
        "list1 = [10, 20, [300, 400, [5000, 6000], 500], 30, 40]\n",
        "\n",
        "expected o/p ; [10, 20, [300, 400, [5000, 6000, 7000], 500], 30, 40]"
      ],
      "metadata": {
        "id": "dy5zj1nH6EeC"
      }
    },
    {
      "cell_type": "code",
      "source": [
        "#  write your code here\n",
        "list1 = [10, 20, [300, 400, [5000, 6000], 500], 30, 40]\n",
        "list1[2][2].insert(2, 7000)\n",
        "print(list1)\n"
      ],
      "metadata": {
        "id": "NvOK7zjS6Ypm",
        "colab": {
          "base_uri": "https://localhost:8080/"
        },
        "outputId": "80626389-417c-4b13-dca0-377c9cde6ec5"
      },
      "execution_count": 6,
      "outputs": [
        {
          "output_type": "stream",
          "name": "stdout",
          "text": [
            "[10, 20, [300, 400, [5000, 6000, 7000], 500], 30, 40]\n"
          ]
        }
      ]
    },
    {
      "cell_type": "markdown",
      "source": [
        "3.You have given a Python list. Write a program to find value 20 in the list, and if it is present, replace it with 200. Only update the first occurrence of an item.\n",
        "\n",
        "list1 = [5, 10, 15, 20, 25, 50, 20]\n",
        "\n",
        "Expected output:\n",
        "[5, 10, 15, 200, 25, 50, 20]"
      ],
      "metadata": {
        "id": "eKYYcluk6EoM"
      }
    },
    {
      "cell_type": "code",
      "source": [
        "#write your code here\n",
        "list1 = [5, 10, 15, 20, 25, 50, 20]\n",
        "if 20 in list1:\n",
        "    index = list1.index(20)\n",
        "    list1[index] = 200\n",
        "print(list1)\n"
      ],
      "metadata": {
        "id": "Rr8oqp1k6vOX",
        "colab": {
          "base_uri": "https://localhost:8080/"
        },
        "outputId": "61c4450b-62c5-4f73-9a73-c8c0243c7838"
      },
      "execution_count": 7,
      "outputs": [
        {
          "output_type": "stream",
          "name": "stdout",
          "text": [
            "[5, 10, 15, 200, 25, 50, 20]\n"
          ]
        }
      ]
    },
    {
      "cell_type": "markdown",
      "source": [
        "4.Remove all occurrences of a specific item from a list.\n",
        "Given a Python list, write a program to remove all occurrences of item 20.\n",
        "\n",
        "list1 = [5, 20, 15, 20, 25, 50, 20]\n",
        "\n",
        "Expected output:\n",
        "\n",
        "[5, 15, 25, 50]"
      ],
      "metadata": {
        "id": "JbJhbXS46Eyn"
      }
    },
    {
      "cell_type": "code",
      "source": [
        "# write your code here\n",
        "list1 = [5, 20, 15, 20, 25, 50, 20]\n",
        "list1 = [item for item in list1 if item != 20]\n",
        "print(list1)\n"
      ],
      "metadata": {
        "id": "391fvowJ7DIs",
        "colab": {
          "base_uri": "https://localhost:8080/"
        },
        "outputId": "e2ff97ea-4892-4a52-d0c4-17aa378503d5"
      },
      "execution_count": 8,
      "outputs": [
        {
          "output_type": "stream",
          "name": "stdout",
          "text": [
            "[5, 15, 25, 50]\n"
          ]
        }
      ]
    },
    {
      "cell_type": "markdown",
      "source": [
        "5.Concatenate two lists in the following order\n",
        "\n",
        "list1 = [\"Hello \", \"take \"]\n",
        "\n",
        "list2 = [\"Dear\", \"Sir\"]\n",
        "\n",
        "Expected output:\n",
        "\n",
        "['Hello Dear', 'Hello Sir', 'take Dear', 'take Sir']"
      ],
      "metadata": {
        "id": "7wpuDD3R6E7g"
      }
    },
    {
      "cell_type": "code",
      "source": [
        "# write your code here\n",
        "list1 = [\"Hello \", \"take \"]\n",
        "list2 = [\"Dear\", \"Sir\"]\n",
        "result = [a + b for a in list1 for b in list2]\n",
        "print(result)\n"
      ],
      "metadata": {
        "id": "OAEqzjHy7b-h",
        "colab": {
          "base_uri": "https://localhost:8080/"
        },
        "outputId": "f8d0ca8a-9f6e-4868-9b7f-ea8c8bc48ccd"
      },
      "execution_count": 9,
      "outputs": [
        {
          "output_type": "stream",
          "name": "stdout",
          "text": [
            "['Hello Dear', 'Hello Sir', 'take Dear', 'take Sir']\n"
          ]
        }
      ]
    }
  ]
}