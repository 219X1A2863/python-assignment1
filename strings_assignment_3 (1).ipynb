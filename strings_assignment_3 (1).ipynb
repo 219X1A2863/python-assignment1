{
  "nbformat": 4,
  "nbformat_minor": 0,
  "metadata": {
    "colab": {
      "provenance": []
    },
    "kernelspec": {
      "name": "python3",
      "display_name": "Python 3"
    },
    "language_info": {
      "name": "python"
    }
  },
  "cells": [
    {
      "cell_type": "markdown",
      "source": [
        "1.Write a Python program to count the number of vowels in a string.\n",
        "\n",
        "input : hasdfgeuionhjl"
      ],
      "metadata": {
        "id": "q8RkYTES1QUW"
      }
    },
    {
      "cell_type": "code",
      "source": [
        "# write your code here\n",
        "input_string = \"hasdfgeuionhjl\"\n",
        "vowels = \"aeiou\"\n",
        "vowel_count = sum(1 for char in input_string if char in vowels)\n",
        "print(f\"The number of vowels in the string is: {vowel_count}\")\n"
      ],
      "metadata": {
        "id": "UHi6ezjV1X0s",
        "colab": {
          "base_uri": "https://localhost:8080/"
        },
        "outputId": "001b24d1-162d-4215-e536-b1d52179bb4c"
      },
      "execution_count": 1,
      "outputs": [
        {
          "output_type": "stream",
          "name": "stdout",
          "text": [
            "The number of vowels in the string is: 5\n"
          ]
        }
      ]
    },
    {
      "cell_type": "markdown",
      "source": [
        "2.Write a Python program to count the occurrences of each word in a sentence.\n",
        "\n",
        "input : hi hello hi and and hi more and more programming"
      ],
      "metadata": {
        "id": "v7GBEK161QWy"
      }
    },
    {
      "cell_type": "code",
      "source": [
        "# write your code here\n",
        "input_sentence = \"hi hello hi and and hi more and more programming\"\n",
        "words = input_sentence.split()\n",
        "word_count = {}\n",
        "for word in words:\n",
        "    word_count[word] = word_count.get(word, 0) + 1\n",
        "print(\"Word occurrences:\")\n",
        "for word, count in word_count.items():\n",
        "    print(f\"{word}: {count}\")\n"
      ],
      "metadata": {
        "id": "R-UzDybK1uZo",
        "colab": {
          "base_uri": "https://localhost:8080/"
        },
        "outputId": "7248dbc7-bff2-48e9-bf4f-004e65cb727d"
      },
      "execution_count": 1,
      "outputs": [
        {
          "output_type": "stream",
          "name": "stdout",
          "text": [
            "Word occurrences:\n",
            "hi: 3\n",
            "hello: 1\n",
            "and: 3\n",
            "more: 2\n",
            "programming: 1\n"
          ]
        }
      ]
    },
    {
      "cell_type": "markdown",
      "source": [
        "3.In python how can you differentiate strings and lists. Give atleast 5 different comparisons between them."
      ],
      "metadata": {
        "id": "evCcw-0H1QY9"
      }
    },
    {
      "cell_type": "markdown",
      "source": [
        "Answer:\n",
        "\n",
        "Here are 5 key differences between strings and lists in Python:\n",
        "\n",
        "1. Mutability:\n",
        ".String: Strings are immutable, meaning their content cannot be changed after creation.\n",
        "s = \"hello\"\n",
        "s[0] = \"H\"\n",
        "\n",
        ".List: Lists are mutable, meaning their elements can be modified.\n",
        "lst = [\"h\", \"e\", \"l\", \"l\", \"o\"]\n",
        "lst[0] = \"H\"\n",
        "print(lst)\n",
        "\n",
        "2. Element Type:\n",
        ".String: A string contains only characters (text data). Each character is a single element of the string.\n",
        "s = \"hello\"\n",
        "print(s[0])\n",
        "\n",
        ".List: A list can contain elements of any data type, such as integers, strings, floats, or even other lists.\n",
        "lst = [1, \"hello\", 3.14, [5, 6]]\n",
        "print(lst[1])\n",
        "\n",
        "\n",
        "3. Iteration:\n",
        ".String: Iterating over a string processes each character.\n",
        "s = \"hello\"\n",
        "for char in s:\n",
        "    print(char)\n",
        ".List: Iterating over a list processes each element, which could be of any type.\n",
        "lst = [1, \"hello\", 3.14]\n",
        "for elem in lst:\n",
        "    print(elem)\n",
        "\n",
        "4. Length Calculation:\n",
        ".String: The length of a string is the count of characters in it.\n",
        "s = \"hello\"\n",
        "print(len(s))  # 5\n",
        ".List: The length of a list is the count of elements it contains.\n",
        "lst = [1, \"hello\", 3.14, [5, 6]]\n",
        "print(len(lst))\n",
        "\n",
        "5. Slicing and Concatenation:\n",
        ".String: Strings support slicing and concatenation but return a new string (immutability).\n",
        "s = \"hello\"\n",
        "print(s[:2])\n",
        "print(s + \" world\")\n",
        ".List: Lists also support slicing and concatenation but return a new list (elements can still be modified later).\n",
        "lst = [1, 2, 3, 4, 5]\n",
        "print(lst[:2])\n",
        "print(lst + [6, 7])"
      ],
      "metadata": {
        "id": "OfiTI0pv1QbU"
      }
    },
    {
      "cell_type": "markdown",
      "source": [
        "4.Write a string for your own of approximately 40 in length and perform any 5 different string operations on that."
      ],
      "metadata": {
        "id": "riR1PWxG1Qdq"
      }
    },
    {
      "cell_type": "code",
      "source": [
        "my_string = \"Python programming is both fun and powerful.\"\n",
        "\n",
        "# 1. Length of the string\n",
        "print(f\"Length of the string: {len(my_string)}\")\n",
        "\n",
        "# 2. Convert to uppercase\n",
        "print(f\"Uppercase string: {my_string.upper()}\")\n",
        "\n",
        "# 3. Replace a word\n",
        "print(f\"String after replacement: {my_string.replace('fun', 'exciting')}\")\n",
        "\n",
        "# 4. Extract substring\n",
        "print(f\"Substring: {my_string[7:18]}\")\n",
        "\n",
        "# 5. Check if it starts with \"Python\"\n",
        "print(f\"Does the string start with 'Python'? {my_string.startswith('Python')}\")\n"
      ],
      "metadata": {
        "colab": {
          "base_uri": "https://localhost:8080/"
        },
        "id": "V1dpWVZ3f1aN",
        "outputId": "83136085-fbc1-46ad-a139-f83d7c6393a4"
      },
      "execution_count": 4,
      "outputs": [
        {
          "output_type": "stream",
          "name": "stdout",
          "text": [
            "Length of the string: 44\n",
            "Uppercase string: PYTHON PROGRAMMING IS BOTH FUN AND POWERFUL.\n",
            "String after replacement: Python programming is both exciting and powerful.\n",
            "Substring: programming\n",
            "Does the string start with 'Python'? True\n"
          ]
        }
      ]
    },
    {
      "cell_type": "markdown",
      "source": [
        "5.Explain the concatination in strings with a neat example."
      ],
      "metadata": {
        "id": "bbUm7VVN1Qfu"
      }
    },
    {
      "cell_type": "code",
      "source": [
        "#write your code and explanation here\n",
        "#Concatenation is the process of joining two or more strings together\n",
        "# to form a single string. In Python, this can be achieved using the + operator or the join() method.\n",
        "\n",
        "\n",
        "\n",
        "\n",
        "# Define two strings\n",
        "string1 = \"Hello\"\n",
        "string2 = \"World\"\n",
        "\n",
        "# Concatenate using the + operator\n",
        "concatenated_string = string1 + \" \" + string2\n",
        "print(f\"Using + operator: {concatenated_string}\")\n",
        "\n",
        "# Concatenate using the join() method\n",
        "concatenated_with_join = \" \".join([string1, string2])\n",
        "print(f\"Using join() method: {concatenated_with_join}\")\n"
      ],
      "metadata": {
        "id": "y9292Q452tF0",
        "colab": {
          "base_uri": "https://localhost:8080/"
        },
        "outputId": "b17866e0-5189-4cbd-9fe4-8b67f4fa6ffc"
      },
      "execution_count": 5,
      "outputs": [
        {
          "output_type": "stream",
          "name": "stdout",
          "text": [
            "Using + operator: Hello World\n",
            "Using join() method: Hello World\n"
          ]
        }
      ]
    },
    {
      "cell_type": "code",
      "source": [],
      "metadata": {
        "id": "vnMNtJgq2xuG"
      },
      "execution_count": null,
      "outputs": []
    }
  ]
}