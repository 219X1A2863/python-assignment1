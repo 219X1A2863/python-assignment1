{
  "cells": [
    {
      "cell_type": "code",
      "execution_count": 1,
      "metadata": {
        "id": "iW52YCl3_ovJ"
      },
      "outputs": [],
      "source": [
        "#Consider the string given below and answer the following questions\n",
        "string = \"OQYWFClFhFGAvIWYwGKpmZhnJiyzTslSIhSwvOsqJMEphzmifTkyqOMNpnOtXZxmCfgDYqbaBHAUvIWhMnvwZnEMVDvmEfLrDoQnAZgQEgXQVnmSYkfedpAdhrtpOgORpYLRZYGWdhWYuqQssCUXtTzKRDAhpjUheOzUroZNzWFtZOVwIapzUYtbSbjYNErzQ\"\n"
      ]
    },
    {
      "cell_type": "markdown",
      "metadata": {
        "id": "H6OZHvVt_ovL"
      },
      "source": [
        "####  Calculate the number of characters in the string\n",
        "\n",
        "-  193\n",
        "-  200\n",
        "-  300\n",
        "-  500\n"
      ]
    },
    {
      "cell_type": "code",
      "execution_count": 2,
      "metadata": {
        "colab": {
          "base_uri": "https://localhost:8080/"
        },
        "id": "hEMiVpfD_ovM",
        "outputId": "a0cedba7-fcc3-474f-c094-6a225883107c"
      },
      "outputs": [
        {
          "output_type": "stream",
          "name": "stdout",
          "text": [
            "193\n"
          ]
        }
      ],
      "source": [
        "# Type your code here\n",
        "print(len(string))"
      ]
    },
    {
      "cell_type": "markdown",
      "metadata": {
        "id": "ao8j5eNd_ovN"
      },
      "source": [
        "#### Count the number of occurences of 'a' in the string\n",
        "\n",
        "-  1\n",
        "-  2\n",
        "-  10\n",
        "-  5"
      ]
    },
    {
      "cell_type": "code",
      "execution_count": 3,
      "metadata": {
        "colab": {
          "base_uri": "https://localhost:8080/"
        },
        "id": "VAmD8Vpw_ovN",
        "outputId": "ff3d3a8b-0e59-40fe-b7cb-edb6e9d120b0"
      },
      "outputs": [
        {
          "output_type": "stream",
          "name": "stdout",
          "text": [
            "2\n"
          ]
        }
      ],
      "source": [
        "# Type your code here\n",
        "count_a = string.count('a')\n",
        "print(count_a)"
      ]
    },
    {
      "cell_type": "markdown",
      "metadata": {
        "id": "yzi_tTDB_ovN"
      },
      "source": [
        "#### Identify whether the string starts with 'if'.\n",
        "\n",
        "-  True\n",
        "-  False"
      ]
    },
    {
      "cell_type": "code",
      "execution_count": 4,
      "metadata": {
        "colab": {
          "base_uri": "https://localhost:8080/"
        },
        "id": "If0qc1x6_ovO",
        "outputId": "b89c48cf-8025-490b-d5c9-c82e895a64f9"
      },
      "outputs": [
        {
          "output_type": "stream",
          "name": "stdout",
          "text": [
            "False\n"
          ]
        }
      ],
      "source": [
        "# Type your code here\n",
        "starts_with_if = string.startswith('if')\n",
        "print(starts_with_if)"
      ]
    },
    {
      "cell_type": "markdown",
      "metadata": {
        "id": "DqPMYBNt_ovO"
      },
      "source": [
        "#### Return the substring starting at index 63 and ending at index 88  [Both the indexes are inclusive]\n",
        "\n",
        "-  'OQYWFClFhFGA'\n",
        "-  'mCfgDYqbaBHAUvIWhMnvwZnEMV'\n",
        "-  'IWYwGKpmZhnJiyzTslSIhSwv'\n",
        "-  'JMEphzmifTkyqOMNpnOtXZ'"
      ]
    },
    {
      "cell_type": "code",
      "execution_count": 6,
      "metadata": {
        "collapsed": true,
        "colab": {
          "base_uri": "https://localhost:8080/"
        },
        "id": "XjtF9cIe_ovO",
        "outputId": "365ce1f0-6170-4554-d2b6-838b617dcaec"
      },
      "outputs": [
        {
          "output_type": "stream",
          "name": "stdout",
          "text": [
            "mCfgDYqbaBHAUvIWhMnvwZnEMV\n"
          ]
        }
      ],
      "source": [
        "# Type your code here\n",
        "substring = string[63:89]\n",
        "print(substring)"
      ]
    },
    {
      "cell_type": "markdown",
      "metadata": {
        "id": "Ie3D2BTU_ovP"
      },
      "source": [
        "#### Identify the character at index 45\n",
        "\n",
        "-  a\n",
        "-  b\n",
        "-  z\n",
        "-  x"
      ]
    },
    {
      "cell_type": "code",
      "execution_count": 7,
      "metadata": {
        "colab": {
          "base_uri": "https://localhost:8080/"
        },
        "id": "eV7hYC4L_ovP",
        "outputId": "b644939e-c986-4da7-d6d9-9477fc8b5c62"
      },
      "outputs": [
        {
          "output_type": "stream",
          "name": "stdout",
          "text": [
            "z\n"
          ]
        }
      ],
      "source": [
        "# Type your code here\n",
        "character_at_45 = string[45]\n",
        "print(character_at_45)"
      ]
    },
    {
      "cell_type": "code",
      "execution_count": null,
      "metadata": {
        "collapsed": true,
        "id": "DsgNi2qx_ovP"
      },
      "outputs": [],
      "source": []
    }
  ],
  "metadata": {
    "kernelspec": {
      "display_name": "Python 3",
      "language": "python",
      "name": "python3"
    },
    "language_info": {
      "codemirror_mode": {
        "name": "ipython",
        "version": 3
      },
      "file_extension": ".py",
      "mimetype": "text/x-python",
      "name": "python",
      "nbconvert_exporter": "python",
      "pygments_lexer": "ipython3",
      "version": "3.7.3"
    },
    "colab": {
      "provenance": []
    }
  },
  "nbformat": 4,
  "nbformat_minor": 0
}